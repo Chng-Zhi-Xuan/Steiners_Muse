{
  "nbformat": 4,
  "nbformat_minor": 0,
  "metadata": {
    "colab": {
      "name": "NoteBased Music Generator.ipynb",
      "version": "0.3.2",
      "provenance": []
    },
    "kernelspec": {
      "name": "python3",
      "display_name": "Python 3"
    },
    "accelerator": "GPU"
  },
  "cells": [
    {
      "metadata": {
        "id": "OGbKdJlYqkDB",
        "colab_type": "text"
      },
      "cell_type": "markdown",
      "source": [
        "# **Imports**"
      ]
    },
    {
      "metadata": {
        "id": "Td8GtVvPqnzI",
        "colab_type": "code",
        "colab": {}
      },
      "cell_type": "code",
      "source": [
        "!pip install mido\n",
        "!pip install keras-rl\n",
        "!wget https://bin.equinox.io/c/4VmDzA7iaHb/ngrok-stable-linux-amd64.zip\n",
        "!unzip ngrok-stable-linux-amd64.zip"
      ],
      "execution_count": 0,
      "outputs": []
    },
    {
      "metadata": {
        "id": "jZG_hVAFqoSX",
        "colab_type": "code",
        "colab": {}
      },
      "cell_type": "code",
      "source": [
        "from mido import MidiFile, MidiTrack, Message\n",
        "from keras.layers import CuDNNLSTM, LSTM, Dense, Activation, Dropout\n",
        "from keras.preprocessing import sequence\n",
        "from keras.models import Sequential\n",
        "from keras.optimizers import RMSprop,Adam,SGD,Adagrad\n",
        "from keras.callbacks import TensorBoard\n",
        "from rl.callbacks import FileLogger, ModelIntervalCheckpoint\n",
        "import numpy as np\n",
        "import mido\n",
        "import random\n",
        "\n",
        "from google.colab import files"
      ],
      "execution_count": 0,
      "outputs": []
    },
    {
      "metadata": {
        "id": "1ZaVT-gVqqDw",
        "colab_type": "text"
      },
      "cell_type": "markdown",
      "source": [
        "# **Dataset Import**"
      ]
    },
    {
      "metadata": {
        "id": "wYTDW0hiquyQ",
        "colab_type": "code",
        "colab": {}
      },
      "cell_type": "code",
      "source": [
        "uploaded = files.upload()\n",
        "\n",
        "fileNames = [];\n",
        "\n",
        "for fn in uploaded.keys():\n",
        "  fileNames.append(fn)"
      ],
      "execution_count": 0,
      "outputs": []
    },
    {
      "metadata": {
        "id": "SL3XU3KQsAqd",
        "colab_type": "text"
      },
      "cell_type": "markdown",
      "source": [
        "# **Data Preparation**"
      ]
    },
    {
      "metadata": {
        "id": "FjSTpRYvsDef",
        "colab_type": "code",
        "colab": {}
      },
      "cell_type": "code",
      "source": [
        "'''\n",
        "Retrieve all notes from songs and seperate them into noteSets\n",
        "'''\n",
        "\n",
        "noteSets = []\n",
        "noteDescriptors = 3\n",
        "\n",
        "#Iterate through all songs\n",
        "for song in fileNames:\n",
        "  time=float(0)\n",
        "  prev=float(0)\n",
        "  midi = MidiFile(song)\n",
        "  notes = []\n",
        "  #Iterate through messages in midi file\n",
        "  for msg in midi:\n",
        "    time += msg.time\n",
        "    if not msg.is_meta:\n",
        "      if msg.type == 'note_on':\n",
        "        '''\n",
        "        note are in the form [type, note, velocity]\n",
        "        we want to convert to [note, velocity, time]\n",
        "        '''\n",
        "        note = msg.bytes()\n",
        "        note = note[1:3]\n",
        "        note.append(time-prev)\n",
        "        prev = time\n",
        "        notes.append(note)\n",
        "  #Add notes from song to noteSets        \n",
        "  noteSets.append(notes)"
      ],
      "execution_count": 0,
      "outputs": []
    },
    {
      "metadata": {
        "id": "csCMuVYKupF7",
        "colab_type": "code",
        "colab": {}
      },
      "cell_type": "code",
      "source": [
        "'''\n",
        "Scale all notes to to [0,1]\n",
        "[note, velocity, time] -> [(note-24)/88, velocity/127, time/max_time]\n",
        "'''\n",
        "\n",
        "n = []\n",
        "\n",
        "for notes in noteSets:\n",
        "  for note in notes:\n",
        "    note[0] = (note[0] - 24) / 88\n",
        "    note[1] = note[1] / 127\n",
        "    n.append(note[2])\n",
        "\n",
        "max_time = max(n)      \n",
        "      \n",
        "for notes in noteSets:\n",
        "  for note in notes:\n",
        "    note[2] = note[2] / max_time"
      ],
      "execution_count": 0,
      "outputs": []
    },
    {
      "metadata": {
        "id": "FRJw2EUEvhDY",
        "colab_type": "code",
        "colab": {}
      },
      "cell_type": "code",
      "source": [
        "'''\n",
        "Constructing sentences and labels for training\n",
        "'''\n",
        "sentences = []\n",
        "labels = []\n",
        "\n",
        "window = 50\n",
        "\n",
        "for notes in noteSets:\n",
        "  for i in range(len(notes) - window):\n",
        "    sentence = notes[i : i + window]\n",
        "    label = notes[i + window]\n",
        "    sentences.append(sentence)\n",
        "    labels.append(label)\n",
        "    \n",
        "#Conversion to numpy array for feeding into model\n",
        "sentences = np.array(sentences)\n",
        "labels = np.array(labels)"
      ],
      "execution_count": 0,
      "outputs": []
    },
    {
      "metadata": {
        "id": "cjoO2x8jazh6",
        "colab_type": "text"
      },
      "cell_type": "markdown",
      "source": [
        "# **TensorBoard**"
      ]
    },
    {
      "metadata": {
        "id": "J8kEowLHa1Xq",
        "colab_type": "code",
        "colab": {}
      },
      "cell_type": "code",
      "source": [
        "# Retrieved from https://www.dlology.com/blog/quick-guide-to-run-tensorboard-in-google-colab/\n",
        "\n",
        "LOG_DIR = './log'\n",
        "get_ipython().system_raw(\n",
        "    'tensorboard --logdir {} --host 0.0.0.0 --port 6006 &'\n",
        "    .format(LOG_DIR)\n",
        ")\n",
        "\n",
        "get_ipython().system_raw('./ngrok http 6006 &')\n",
        "\n",
        "! curl -s http://localhost:4040/api/tunnels | python3 -c \\\n",
        "    \"import sys, json; print(json.load(sys.stdin)['tunnels'][0]['public_url'])\"\n",
        "    \n",
        "tbCallBack = TensorBoard(log_dir='./log',\n",
        "                         write_graph=True,\n",
        "                         write_grads=True,\n",
        "                         write_images=True)"
      ],
      "execution_count": 0,
      "outputs": []
    },
    {
      "metadata": {
        "id": "0awtNx4awnGA",
        "colab_type": "text"
      },
      "cell_type": "markdown",
      "source": [
        "# **Model Definition**"
      ]
    },
    {
      "metadata": {
        "id": "ks1snlhRwp0a",
        "colab_type": "code",
        "colab": {}
      },
      "cell_type": "code",
      "source": [
        "model=Sequential()\n",
        "model.add(CuDNNLSTM(512,input_shape=(window, noteDescriptors),return_sequences=True))\n",
        "model.add(Dropout(0.3))\n",
        "model.add(CuDNNLSTM(512, return_sequences=True))\n",
        "model.add(Dropout(0.3))\n",
        "model.add(CuDNNLSTM(512))\n",
        "model.add(Dense(1024))\n",
        "model.add(Dropout(0.3))\n",
        "model.add(Dense(512))\n",
        "model.add(Dropout(0.3))\n",
        "model.add(Dense(noteDescriptors,activation=\"softmax\"))\n",
        "\n",
        "model.summary()"
      ],
      "execution_count": 0,
      "outputs": []
    },
    {
      "metadata": {
        "id": "zbwhczbQxIDC",
        "colab_type": "text"
      },
      "cell_type": "markdown",
      "source": [
        "# **Model Training**"
      ]
    },
    {
      "metadata": {
        "id": "7OTXxkRrxJpr",
        "colab_type": "code",
        "colab": {}
      },
      "cell_type": "code",
      "source": [
        "model.compile(loss=\"categorical_crossentropy\",\n",
        "              optimizer=\"RMSprop\",\n",
        "              metrics=[\"accuracy\"]) "
      ],
      "execution_count": 0,
      "outputs": []
    },
    {
      "metadata": {
        "id": "oAtXh204xpN-",
        "colab_type": "code",
        "colab": {}
      },
      "cell_type": "code",
      "source": [
        "weights_filename = 'model_weights_final.h5f'\n",
        "callbacks = [tbCallBack]\n",
        "\n",
        "model.fit(sentences,\n",
        "          labels,\n",
        "          epochs=500,\n",
        "          batch_size=200,\n",
        "          validation_split=0.1,\n",
        "          callbacks=callbacks)\n",
        "\n",
        "model.save_weights(weights_filename, overwrite=True) "
      ],
      "execution_count": 0,
      "outputs": []
    },
    {
      "metadata": {
        "id": "u2cNz5wMyJ6B",
        "colab_type": "text"
      },
      "cell_type": "markdown",
      "source": [
        "# **Music Generation**"
      ]
    },
    {
      "metadata": {
        "id": "TINMYrhryNNo",
        "colab_type": "code",
        "colab": {}
      },
      "cell_type": "code",
      "source": [
        "'''\n",
        "Generate a song based on database\n",
        "'''\n",
        "songLength = 500;\n",
        "\n",
        "#Pick a random song to start generation\n",
        "noteSetSeed = random.randint(0, len(noteSets)-1)\n",
        "seed = noteSets[noteSetSeed][0 : window]\n",
        "x = seed\n",
        "x = np.expand_dims(x, axis = 0)\n",
        "predict=[]\n",
        "for i in range(songLength):\n",
        "\tp=model.predict(x)\n",
        "\tx=np.squeeze(x) #squeezed to concateneate\n",
        "\tx=np.concatenate((x, p))\n",
        "\tx=x[1:]\n",
        "\tx=np.expand_dims(x, axis=0) #expanded to roll back\n",
        "\tp=np.squeeze(p)\n",
        "\tpredict.append(p)"
      ],
      "execution_count": 0,
      "outputs": []
    },
    {
      "metadata": {
        "id": "yw2hjfQIzdv1",
        "colab_type": "code",
        "colab": {}
      },
      "cell_type": "code",
      "source": [
        "'''\n",
        "Reversescale all notes back\n",
        "[note, velocity, time] -> [note * 88 + 24, velocity * 127, time * max_time]\n",
        "'''\n",
        "\n",
        "for a in predict:\n",
        "\ta[0] = int(88*a[0] + 24)\n",
        "\ta[1] = int(127*a[1])\n",
        "\ta[2] *= max_time\n",
        "\t# reject values out of range  (note[0]=24-102)(note[1]=0-127)(note[2]=0-__)\n",
        "\tif a[0] < 24:  \n",
        "\t\ta[0] = 24\n",
        "\telif a[0] > 102:\n",
        "\t\ta[0] = 102\n",
        "\tif a[1] < 0:    \n",
        "\t\ta[1] = 0\n",
        "\telif a[1] > 127:\n",
        "\t\ta[1] = 127\n",
        "\tif a[2] < 0:     \n",
        "\t\ta[2] = 0"
      ],
      "execution_count": 0,
      "outputs": []
    },
    {
      "metadata": {
        "id": "89sUtz4Mz0Qk",
        "colab_type": "code",
        "colab": {}
      },
      "cell_type": "code",
      "source": [
        "'''\n",
        "Save track from bytes data\n",
        "'''\n",
        "m=MidiFile()\n",
        "track=MidiTrack()\n",
        "m.tracks.append(track)\n",
        "\n",
        "for note in predict:\n",
        "\t#147 means note_on\n",
        "\tnote=np.insert(note, 0, 147)\n",
        "\tbytes=note.astype(int)\n",
        "\tmsg = Message.from_bytes(bytes[0:3]) \n",
        "\ttime = int(note[3]/0.001025) # to rescale to midi's delta ticks. arbitrary value\n",
        "\tmsg.time = time\n",
        "\ttrack.append(msg)\n",
        "\n",
        "m.save('Ai_song.mid')"
      ],
      "execution_count": 0,
      "outputs": []
    }
  ]
}